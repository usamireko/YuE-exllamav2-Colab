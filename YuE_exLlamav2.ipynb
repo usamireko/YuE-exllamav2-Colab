{
  "nbformat": 4,
  "nbformat_minor": 0,
  "metadata": {
    "colab": {
      "private_outputs": true,
      "provenance": [],
      "gpuType": "T4",
      "collapsed_sections": [
        "FmZbRYv-bYAh"
      ]
    },
    "kernelspec": {
      "name": "python3",
      "display_name": "Python 3"
    },
    "language_info": {
      "name": "python"
    },
    "accelerator": "GPU"
  },
  "cells": [
    {
      "cell_type": "code",
      "execution_count": null,
      "metadata": {
        "cellView": "form",
        "id": "H1-oUG_Zlkcn"
      },
      "outputs": [],
      "source": [
        "#@title Install Python 3.12 with Miniconda\n",
        "!wget -O mini.sh https://repo.anaconda.com/miniconda/Miniconda3-py312_24.11.1-0-Linux-x86_64.sh\n",
        "!chmod +x mini.sh\n",
        "!bash ./mini.sh -b -f -p /usr/local\n",
        "!conda install -q -y jupyter\n",
        "!conda install -q -y google-colab -c conda-forge\n",
        "!python -m ipykernel install --name \"py312\" --user\n",
        "!python --version"
      ]
    },
    {
      "cell_type": "code",
      "source": [
        "#@title Download Repos\n",
        "!sudo apt update\n",
        "!sudo apt install git-lfs\n",
        "!git lfs install\n",
        "!git clone https://github.com/sgsdxzy/YuE-exllamav2.git\n",
        "%cd /content/YuE-exllamav2\n",
        "!git clone https://huggingface.co/m-a-p/xcodec_mini_infer"
      ],
      "metadata": {
        "id": "U8cLwdFEmwgV",
        "cellView": "form"
      },
      "execution_count": null,
      "outputs": []
    },
    {
      "cell_type": "code",
      "source": [
        "#@title Requirements\n",
        "%cd /content/YuE-exllamav2\n",
        "!pip install torch==2.5.1 omegaconf torchaudio einops numpy transformers sentencepiece tqdm tensorboard descript-audiotools>=0.7.2 descript-audio-codec scipy>=1.10.1 accelerate>=0.26.0\n",
        "!wget https://github.com/turboderp-org/exllamav2/releases/download/v0.2.7/exllamav2-0.2.7+cu121.torch2.5.0-cp312-cp312-linux_x86_64.whl\n",
        "!pip install exllamav2-0.2.7+cu121.torch2.5.0-cp312-cp312-linux_x86_64.whl\n",
        "!rm -r exllamav2-0.2.7+cu121.torch2.5.0-cp312-cp312-linux_x86_64.whl\n",
        "import os\n",
        "import torch\n",
        "\n",
        "# Check for CUDA availability\n",
        "if torch.cuda.is_available():\n",
        "    major, minor = torch.cuda.get_device_capability()\n",
        "    if major >= 8:\n",
        "        print(f\"Ampere+ GPU detected (sm_{major}{minor}) - installing flash-attn\")\n",
        "        !pip install flash-attn\n",
        "    else:\n",
        "        print(f\"Pre-Ampere GPU detected (sm_{major}{minor}) - skipping installation of flash-attn\")\n",
        "else:\n",
        "    print(\"No GPU available - skipping installation of flash-attn\")"
      ],
      "metadata": {
        "id": "Cj2yxNdmmmmp",
        "cellView": "form"
      },
      "execution_count": null,
      "outputs": []
    },
    {
      "cell_type": "code",
      "source": [
        "#@title Model downloader\n",
        "%cd /content\n",
        "model = \"YuE-s1-7B-anneal-en-cot\" # @param [\"YuE-s1-7B-anneal-en-cot\",\"YuE-s1-7B-anneal-jp-kr-cot\",\"YuE-s1-7B-anneal-zh-cot\", \"YuE-s1-7B-anneal-en-icl\",\"YuE-s1-7B-anneal-jp-kr-icl\",\"YuE-s1-7B-anneal-zh-icl\"]\n",
        "!git clone https://huggingface.co/m-a-p/{model}\n",
        "model_stage2 = \"https://huggingface.co/m-a-p/YuE-s2-1B-general\"\n",
        "!git clone {model_stage2}"
      ],
      "metadata": {
        "id": "e6tjA4lhOWJK",
        "cellView": "form"
      },
      "execution_count": null,
      "outputs": []
    },
    {
      "cell_type": "code",
      "source": [
        "#@title Run!\n",
        "%cd /content/YuE-exllamav2\n",
        "genre_path = \"/content/YuE-exllamav2/prompt_egs/genre.txt\" #@param {type:\"string\"}\n",
        "lyrics_path = \"/content/YuE-exllamav2/prompt_egs/lyrics.txt\" #@param {type:\"string\"}\n",
        "output_path = \"/content/YuE-exllamav2/output\" #@param {type:\"string\"}\n",
        "s1_folder = \"/content/YuE-s1-7B-anneal-en-cot\" # @param {\"type\":\"string\"}\n",
        "s2_folder = \"/content/YuE-s2-1B-general\" # @param {\"type\":\"string\"}\n",
        "!python src/yue/infer.py --stage1_use_exl2 --stage2_use_exl2 --stage2_cache_size 32768 \\\n",
        "    --cuda_idx 0 \\\n",
        "    --stage1_model {s1_folder} \\\n",
        "    --stage2_model {s2_folder} \\\n",
        "    --genre_txt '{genre_path}' \\\n",
        "    --lyrics_txt '{lyrics_path}' \\\n",
        "    --run_n_segments 2 \\\n",
        "    --stage2_batch_size 4 \\\n",
        "    --output_dir '{output_path}' \\\n",
        "    --max_new_tokens 3000"
      ],
      "metadata": {
        "id": "q2WR7EOgfEAP",
        "cellView": "form"
      },
      "execution_count": null,
      "outputs": []
    },
    {
      "cell_type": "markdown",
      "source": [
        "# **Want more advanced stuff?**"
      ],
      "metadata": {
        "id": "FmZbRYv-bYAh"
      }
    },
    {
      "cell_type": "code",
      "source": [
        "#@title Run! (Single Audio ICL Mode)\n",
        "%cd /content/YuE-exllamav2\n",
        "genre_path = \"/content/YuE-exllamav2/prompt_egs/genre.txt\" #@param {type:\"string\"}\n",
        "lyrics_path = \"/content/YuE-exllamav2/prompt_egs/lyrics.txt\" #@param {type:\"string\"}\n",
        "output_path = \"/content/YuE-exllamav2/output\" #@param {type:\"string\"}\n",
        "s1_folder = \"/content/YuE-s1-7B-anneal-en-cot\" # @param {\"type\":\"string\"}\n",
        "s2_folder = \"/content/YuE-s2-1B-general\" # @param {\"type\":\"string\"}\n",
        "start_sec = 0 # @param {\"type\":\"integer\"}\n",
        "end_sec = 30 # @param {\"type\":\"integer\"}\n",
        "audio_path = \"/content/YuE-exllamav2/prompt_egs/audio.wav\" # @param {\"type\":\"string\"}\n",
        "!python src/yue/infer.py --stage1_use_exl2 --stage2_use_exl2 --stage2_cache_size 32768 \\\n",
        "    --cuda_idx 0 \\\n",
        "    --stage1_model {s1_folder} \\\n",
        "    --stage2_model {s2_folder} \\\n",
        "    --genre_txt '{genre_path}'  \\\n",
        "    --lyrics_txt '{lyrics_path}' \\\n",
        "    --run_n_segments 2 \\\n",
        "    --stage2_batch_size 4 \\\n",
        "    --output_dir '{output_path}' \\\n",
        "    --use_audio_prompt \\\n",
        "    --audio_prompt_path '{audio_path}' \\\n",
        "    --prompt_start_time {start_sec} \\\n",
        "    --prompt_end_time {end_sec}"
      ],
      "metadata": {
        "cellView": "form",
        "id": "dIo2xkd9Zzi7"
      },
      "execution_count": null,
      "outputs": []
    },
    {
      "cell_type": "code",
      "source": [
        "#@title Run! (Dual Audio ICL Mode)\n",
        "%cd /content/YuE-exllamav2\n",
        "genre_path = \"/content/YuE-exllamav2/prompt_egs/genre.txt\" #@param {type:\"string\"}\n",
        "lyrics_path = \"/content/YuE-exllamav2/prompt_egs/lyrics.txt\" #@param {type:\"string\"}\n",
        "output_path = \"/content/YuE-exllamav2/output\" #@param {type:\"string\"}\n",
        "s1_folder = \"/content/YuE-s1-7B-anneal-en-icl\" # @param {\"type\":\"string\"}\n",
        "s2_folder = \"/content/YuE-s2-1B-general\" # @param {\"type\":\"string\"}\n",
        "start_sec = 0 # @param {\"type\":\"integer\"}\n",
        "end_sec = 27 # @param {\"type\":\"integer\"}\n",
        "vocal_path = \"\" # @param {\"type\":\"string\"}\n",
        "inst_path = \"\" # @param {\"type\":\"string\"}\n",
        "!python src/yue/infer.py --stage1_use_exl2 --stage2_use_exl2 --stage2_cache_size 32768 \\\n",
        "    --cuda_idx 0 \\\n",
        "    --stage1_model {s1_folder} \\\n",
        "    --stage2_model {s2_folder} \\\n",
        "    --genre_txt '{genre_path}'  \\\n",
        "    --lyrics_txt '{lyrics_path}' \\\n",
        "    --run_n_segments 2 \\\n",
        "    --stage2_batch_size 2 \\\n",
        "    --output_dir '{output_path}' \\\n",
        "    --use_dual_tracks_prompt \\\n",
        "    --vocal_track_prompt_path '{vocal_path}' \\\n",
        "    --instrumental_track_prompt_path '{inst_path}' \\\n",
        "    --prompt_start_time {start_sec} \\\n",
        "    --prompt_end_time {end_sec}"
      ],
      "metadata": {
        "cellView": "form",
        "id": "hhpguJYqdHcD"
      },
      "execution_count": null,
      "outputs": []
    }
  ]
}